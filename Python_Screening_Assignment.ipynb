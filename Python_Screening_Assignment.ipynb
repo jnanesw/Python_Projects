{
 "cells": [
  {
   "cell_type": "markdown",
   "id": "a41603bd",
   "metadata": {},
   "source": [
    "`Question:1`\n",
    "\n",
    "**`Answer: `**"
   ]
  },
  {
   "cell_type": "code",
   "execution_count": 1,
   "id": "3b6de4bf",
   "metadata": {},
   "outputs": [
    {
     "name": "stdout",
     "output_type": "stream",
     "text": [
      "Before replacing the string 'placement':  This is a placement assignment\n",
      "After replacing the string 'placement':  This is a screening assignment\n"
     ]
    }
   ],
   "source": [
    "\n",
    "fin=open(\"example.txt\",\"r\")  # Opening the file in reading mode to read the data\n",
    "data=fin.read()              # storing the data in the variable\n",
    "fin.close()                  # closing the file\n",
    "print(\"Before replacing the string 'placement': \", data)\n",
    "data=data.replace(\"placement\",\"screening\")  # replacing the placement with screening\n",
    "fout=open(\"Example.txt\",\"w\")\n",
    "fout.write(data)                         # Writing into the file\n",
    "fout.close()\n",
    "print(\"After replacing the string 'placement': \", data)"
   ]
  },
  {
   "cell_type": "code",
   "execution_count": null,
   "id": "4d9f492a",
   "metadata": {},
   "outputs": [],
   "source": []
  },
  {
   "cell_type": "code",
   "execution_count": null,
   "id": "63bfc4d2",
   "metadata": {},
   "outputs": [],
   "source": []
  },
  {
   "cell_type": "code",
   "execution_count": null,
   "id": "0dc87ec2",
   "metadata": {},
   "outputs": [],
   "source": []
  },
  {
   "cell_type": "markdown",
   "id": "2e71f221",
   "metadata": {},
   "source": [
    "`Questino:2`\n",
    "\n",
    "**`Answer: `**"
   ]
  },
  {
   "cell_type": "markdown",
   "id": "5f05ad2f",
   "metadata": {},
   "source": [
    "`Abstract Classes:`\n",
    "### *Abstract classes uses symbol Decorators \n",
    "### *If a class having one or more absract methods and then it is called abstract method\n",
    "### *we can declare abstract class without defining an abstract method in it\n",
    "### *And we are not able to create instance/object of an abstract class\n",
    "### *But we can create classes that can inherit abstract class.\n",
    "### *We use abstract classes to share the code among several related classes\n",
    "\n",
    "-------------------------------------------------------------------------------------------------------------------------------\n",
    "\n",
    "\n",
    "`Decorator: `\n",
    "### *Decorators usally takes the function as a parameter and add some functionalities to it and returns it without changing the original functionalities.\n",
    "\n",
    "-------------------------------------------------------------------------------------------------------------------------------\n",
    "\n",
    "`Multiple Inheriance : `\n",
    "### *A child class can be derived from more than one class or multiple classes is called as Multilevel Inheritance"
   ]
  },
  {
   "cell_type": "markdown",
   "id": "be2cbd0a",
   "metadata": {},
   "source": []
  },
  {
   "cell_type": "code",
   "execution_count": null,
   "id": "7565c948",
   "metadata": {},
   "outputs": [],
   "source": []
  }
 ],
 "metadata": {
  "kernelspec": {
   "display_name": "Python 3",
   "language": "python",
   "name": "python3"
  },
  "language_info": {
   "codemirror_mode": {
    "name": "ipython",
    "version": 3
   },
   "file_extension": ".py",
   "mimetype": "text/x-python",
   "name": "python",
   "nbconvert_exporter": "python",
   "pygments_lexer": "ipython3",
   "version": "3.8.8"
  }
 },
 "nbformat": 4,
 "nbformat_minor": 5
}
